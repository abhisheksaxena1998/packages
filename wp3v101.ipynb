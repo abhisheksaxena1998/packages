{
  "nbformat": 4,
  "nbformat_minor": 0,
  "metadata": {
    "colab": {
      "name": "wp3v101.ipynb",
      "provenance": [],
      "include_colab_link": true
    },
    "kernelspec": {
      "name": "python3",
      "display_name": "Python 3"
    }
  },
  "cells": [
    {
      "cell_type": "markdown",
      "metadata": {
        "id": "view-in-github",
        "colab_type": "text"
      },
      "source": [
        "<a href=\"https://colab.research.google.com/github/abhisheksaxena1998/packages/blob/master/wp3v101.ipynb\" target=\"_parent\"><img src=\"https://colab.research.google.com/assets/colab-badge.svg\" alt=\"Open In Colab\"/></a>"
      ]
    },
    {
      "cell_type": "code",
      "metadata": {
        "id": "qfwQ6iQLuB1V",
        "colab_type": "code",
        "colab": {}
      },
      "source": [
        "from sklearn.pipeline import Pipeline\n",
        "from sklearn.feature_extraction.text import TfidfTransformer\n",
        "from sklearn.metrics import classification_report\n",
        "from sklearn.feature_extraction.text import CountVectorizer, TfidfVectorizer\n",
        "from sklearn.metrics import accuracy_score, confusion_matrix\n",
        "import pandas as pd \n",
        "from sklearn.model_selection import train_test_split\n",
        "import numpy as np\n",
        "from sklearn.svm import LinearSVC\n",
        "from sklearn.linear_model import LogisticRegression\n",
        "from sklearn.neural_network import MLPClassifier\n",
        "import pickle\n",
        "import csv"
      ],
      "execution_count": 0,
      "outputs": []
    },
    {
      "cell_type": "code",
      "metadata": {
        "id": "tugpSeYGu5Td",
        "colab_type": "code",
        "colab": {
          "base_uri": "https://localhost:8080/",
          "height": 402
        },
        "outputId": "9c16392f-6f32-4860-e330-ffcd577f5f27"
      },
      "source": [
        "import numpy as np\n",
        "import pandas as pd\n",
        "\n",
        "df=pd.read_csv(\"q_mc_train.csv\", header = None, delimiter=\"\\t\", quoting=csv.QUOTE_NONE, encoding='utf-8')\n",
        "df"
      ],
      "execution_count": 9,
      "outputs": [
        {
          "output_type": "execute_result",
          "data": {
            "text/html": [
              "<div>\n",
              "<style scoped>\n",
              "    .dataframe tbody tr th:only-of-type {\n",
              "        vertical-align: middle;\n",
              "    }\n",
              "\n",
              "    .dataframe tbody tr th {\n",
              "        vertical-align: top;\n",
              "    }\n",
              "\n",
              "    .dataframe thead th {\n",
              "        text-align: right;\n",
              "    }\n",
              "</style>\n",
              "<table border=\"1\" class=\"dataframe\">\n",
              "  <thead>\n",
              "    <tr style=\"text-align: right;\">\n",
              "      <th></th>\n",
              "      <th>0</th>\n",
              "    </tr>\n",
              "  </thead>\n",
              "  <tbody>\n",
              "    <tr>\n",
              "      <th>0</th>\n",
              "      <td>id,topic,mc,sentence,suffix,prefix,url</td>\n",
              "    </tr>\n",
              "    <tr>\n",
              "      <th>1</th>\n",
              "      <td>62,We should abandon Youtube,YouTube,\"On 21 Ma...</td>\n",
              "    </tr>\n",
              "    <tr>\n",
              "      <th>2</th>\n",
              "      <td>62,We should abandon Youtube,YouTube,\"These vi...</td>\n",
              "    </tr>\n",
              "    <tr>\n",
              "      <th>3</th>\n",
              "      <td>62,We should abandon Youtube,YouTube,\"On 11 De...</td>\n",
              "    </tr>\n",
              "    <tr>\n",
              "      <th>4</th>\n",
              "      <td>62,We should abandon Youtube,YouTube,All video...</td>\n",
              "    </tr>\n",
              "    <tr>\n",
              "      <th>...</th>\n",
              "      <td>...</td>\n",
              "    </tr>\n",
              "    <tr>\n",
              "      <th>569377</th>\n",
              "      <td>67,Generic drugs bring more harm than good,Gen...</td>\n",
              "    </tr>\n",
              "    <tr>\n",
              "      <th>569378</th>\n",
              "      <td>67,Generic drugs bring more harm than good,Gen...</td>\n",
              "    </tr>\n",
              "    <tr>\n",
              "      <th>569379</th>\n",
              "      <td>67,Generic drugs bring more harm than good,Gen...</td>\n",
              "    </tr>\n",
              "    <tr>\n",
              "      <th>569380</th>\n",
              "      <td>67,Generic drugs bring more harm than good,Gen...</td>\n",
              "    </tr>\n",
              "    <tr>\n",
              "      <th>569381</th>\n",
              "      <td>67,Generic drugs bring more harm than good,Gen...</td>\n",
              "    </tr>\n",
              "  </tbody>\n",
              "</table>\n",
              "<p>569382 rows × 1 columns</p>\n",
              "</div>"
            ],
            "text/plain": [
              "                                                        0\n",
              "0                  id,topic,mc,sentence,suffix,prefix,url\n",
              "1       62,We should abandon Youtube,YouTube,\"On 21 Ma...\n",
              "2       62,We should abandon Youtube,YouTube,\"These vi...\n",
              "3       62,We should abandon Youtube,YouTube,\"On 11 De...\n",
              "4       62,We should abandon Youtube,YouTube,All video...\n",
              "...                                                   ...\n",
              "569377  67,Generic drugs bring more harm than good,Gen...\n",
              "569378  67,Generic drugs bring more harm than good,Gen...\n",
              "569379  67,Generic drugs bring more harm than good,Gen...\n",
              "569380  67,Generic drugs bring more harm than good,Gen...\n",
              "569381  67,Generic drugs bring more harm than good,Gen...\n",
              "\n",
              "[569382 rows x 1 columns]"
            ]
          },
          "metadata": {
            "tags": []
          },
          "execution_count": 9
        }
      ]
    },
    {
      "cell_type": "code",
      "metadata": {
        "id": "kTXoyMXvu8C9",
        "colab_type": "code",
        "colab": {}
      },
      "source": [
        "V=df.sentence\n",
        "cat=df.topic"
      ],
      "execution_count": 0,
      "outputs": []
    },
    {
      "cell_type": "code",
      "metadata": {
        "id": "buQXWzkevFln",
        "colab_type": "code",
        "colab": {}
      },
      "source": [
        "def logisticreg(X_train, X_test, y_train, y_test):\n",
        "\n",
        "  from sklearn.linear_model import LogisticRegression\n",
        "\n",
        "  logreg = Pipeline([('vect', CountVectorizer()),\n",
        "                  ('tfidf', TfidfTransformer()),\n",
        "                  ('clf', LogisticRegression(n_jobs=1, C=1e5)),\n",
        "                 ])\n",
        "  logreg.fit(X_train, y_train)\n",
        "\n",
        "  y_pred = logreg.predict(X_test)\n",
        "  \n",
        "\n",
        "  print('accuracy %s' % accuracy_score(y_pred, y_test))"
      ],
      "execution_count": 0,
      "outputs": []
    },
    {
      "cell_type": "code",
      "metadata": {
        "id": "Od93m6kivGt1",
        "colab_type": "code",
        "colab": {}
      },
      "source": [
        "def mlpclassifier(X_train, X_test, y_train, y_test):\n",
        "  \n",
        "  from sklearn.neural_network import MLPClassifier\n",
        "  \n",
        "  mlp = Pipeline([('vect', CountVectorizer()),\n",
        "                  ('tfidf', TfidfTransformer()),\n",
        "                  ('clf', MLPClassifier(hidden_layer_sizes=(30,30,30))),\n",
        "                 ])\n",
        "  mlp.fit(X_train, y_train)\n",
        "\n",
        "  y_pred = mlp.predict(X_test)\n",
        "  \n",
        "  filename3 = 'wp3_mlp_model.sav'\n",
        "  pickle.dump(mlp, open(filename3, 'wb'))\n",
        "\n",
        "  print('accuracy %s' % accuracy_score(y_pred, y_test))"
      ],
      "execution_count": 0,
      "outputs": []
    },
    {
      "cell_type": "code",
      "metadata": {
        "id": "ub8uvKMavJvB",
        "colab_type": "code",
        "colab": {}
      },
      "source": [
        "def train_test(X,y):\n",
        " \n",
        "  X_train, X_test, y_train, y_test = train_test_split(X, y, test_size=0.3, random_state = 42)\n",
        "\n",
        "  #print(\"Results of Naive Bayes Classifier\")\n",
        "  #nb_classifier(X_train, X_test, y_train, y_test)\n",
        "  #print(\"Results of Linear Support Vector Machine\")\n",
        "  #linear_svm(X_train, X_test, y_train, y_test)\n",
        "  print(\"Results of Logistic Regression\")\n",
        "  from sklearn.linear_model import LogisticRegression\n",
        "\n",
        "  logreg = Pipeline([('vect', CountVectorizer()),\n",
        "                  ('tfidf', TfidfTransformer()),\n",
        "                  ('clf', LogisticRegression(n_jobs=1, C=1e5)),\n",
        "                 ])\n",
        "  logreg.fit(X_train, y_train)\n",
        "\n",
        "  y_pred = logreg.predict(X_test)\n",
        "  filename2 = 'wp3_Log_model_full.sav'\n",
        "  pickle.dump(logreg, open(filename2, 'wb'))\n",
        "\n",
        "  print('accuracy %s' % accuracy_score(y_pred, y_test))\n",
        "  #logisticreg(X_train, X_test, y_train, y_test)\n",
        "  #print(\"Results of Random Forest\")\n",
        "  #randomforest(X_train, X_test, y_train, y_test)\n",
        "  #print(\"Results of MLP Classifier\")\n",
        "  #mlpclassifier(X_train, X_test, y_train, y_test)"
      ],
      "execution_count": 0,
      "outputs": []
    },
    {
      "cell_type": "code",
      "metadata": {
        "id": "dLBjue7svhk8",
        "colab_type": "code",
        "colab": {}
      },
      "source": [
        "train_test(V,cat)"
      ],
      "execution_count": 0,
      "outputs": []
    }
  ]
}