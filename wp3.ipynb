{
  "nbformat": 4,
  "nbformat_minor": 0,
  "metadata": {
    "colab": {
      "name": "wp3.ipynb",
      "provenance": [],
      "collapsed_sections": [],
      "include_colab_link": true
    },
    "kernelspec": {
      "name": "python3",
      "display_name": "Python 3"
    }
  },
  "cells": [
    {
      "cell_type": "markdown",
      "metadata": {
        "id": "view-in-github",
        "colab_type": "text"
      },
      "source": [
        "<a href=\"https://colab.research.google.com/github/abhisheksaxena1998/packages/blob/master/wp3.ipynb\" target=\"_parent\"><img src=\"https://colab.research.google.com/assets/colab-badge.svg\" alt=\"Open In Colab\"/></a>"
      ]
    },
    {
      "cell_type": "code",
      "metadata": {
        "id": "GvcGuoVN-OdK",
        "colab_type": "code",
        "colab": {}
      },
      "source": [
        "from sklearn.pipeline import Pipeline\n",
        "from sklearn.feature_extraction.text import TfidfTransformer\n",
        "from sklearn.metrics import classification_report\n",
        "from sklearn.feature_extraction.text import CountVectorizer, TfidfVectorizer\n",
        "from sklearn.metrics import accuracy_score, confusion_matrix\n",
        "import pandas as pd \n",
        "from sklearn.model_selection import train_test_split\n",
        "import numpy as np\n",
        "from sklearn.svm import LinearSVC\n",
        "from sklearn.linear_model import LogisticRegression\n",
        "from sklearn.neural_network import MLPClassifier\n",
        "import pickle"
      ],
      "execution_count": 0,
      "outputs": []
    },
    {
      "cell_type": "code",
      "metadata": {
        "id": "H2qqGuXaFazL",
        "colab_type": "code",
        "colab": {
          "base_uri": "https://localhost:8080/",
          "height": 738
        },
        "outputId": "5c06a83b-fd76-4e73-bbe3-7043ad0c96ed"
      },
      "source": [
        "import numpy as np\n",
        "import pandas as pd\n",
        "\n",
        "df=pd.read_csv(\"q_mc_train.csv\")\n",
        "df"
      ],
      "execution_count": 2,
      "outputs": [
        {
          "output_type": "execute_result",
          "data": {
            "text/html": [
              "<div>\n",
              "<style scoped>\n",
              "    .dataframe tbody tr th:only-of-type {\n",
              "        vertical-align: middle;\n",
              "    }\n",
              "\n",
              "    .dataframe tbody tr th {\n",
              "        vertical-align: top;\n",
              "    }\n",
              "\n",
              "    .dataframe thead th {\n",
              "        text-align: right;\n",
              "    }\n",
              "</style>\n",
              "<table border=\"1\" class=\"dataframe\">\n",
              "  <thead>\n",
              "    <tr style=\"text-align: right;\">\n",
              "      <th></th>\n",
              "      <th>id</th>\n",
              "      <th>topic</th>\n",
              "      <th>mc</th>\n",
              "      <th>sentence</th>\n",
              "      <th>suffix</th>\n",
              "      <th>prefix</th>\n",
              "      <th>url</th>\n",
              "    </tr>\n",
              "  </thead>\n",
              "  <tbody>\n",
              "    <tr>\n",
              "      <th>0</th>\n",
              "      <td>62</td>\n",
              "      <td>We should abandon Youtube</td>\n",
              "      <td>YouTube</td>\n",
              "      <td>On 21 May 2017, the second annual Sidemen char...</td>\n",
              "      <td>All Stars\" [REF].</td>\n",
              "      <td>On 21 May 2017, the second annual Sidemen char...</td>\n",
              "      <td>https://en.wikipedia.org/wiki/The_Valley_(London)</td>\n",
              "    </tr>\n",
              "    <tr>\n",
              "      <th>1</th>\n",
              "      <td>62</td>\n",
              "      <td>We should abandon Youtube</td>\n",
              "      <td>YouTube</td>\n",
              "      <td>These videos are posted to sites such as YouTu...</td>\n",
              "      <td>, where they often generate conflicting nation...</td>\n",
              "      <td>These videos are posted to sites such as</td>\n",
              "      <td>https://en.wikipedia.org/wiki/Nagorno-Karabakh...</td>\n",
              "    </tr>\n",
              "    <tr>\n",
              "      <th>2</th>\n",
              "      <td>62</td>\n",
              "      <td>We should abandon Youtube</td>\n",
              "      <td>YouTube</td>\n",
              "      <td>On 11 December 2013, Albarn released a 21-seco...</td>\n",
              "      <td>, which he had also shared on his Facebook and...</td>\n",
              "      <td>On 11 December 2013, Albarn released a 21-seco...</td>\n",
              "      <td>https://en.wikipedia.org/wiki/Damon_Albarn</td>\n",
              "    </tr>\n",
              "    <tr>\n",
              "      <th>3</th>\n",
              "      <td>62</td>\n",
              "      <td>We should abandon Youtube</td>\n",
              "      <td>YouTube</td>\n",
              "      <td>All videos were later freely offered on Tankia...</td>\n",
              "      <td>.</td>\n",
              "      <td>All videos were later freely offered on Tankia...</td>\n",
              "      <td>https://en.wikipedia.org/wiki/Elect_the_Dead</td>\n",
              "    </tr>\n",
              "    <tr>\n",
              "      <th>4</th>\n",
              "      <td>62</td>\n",
              "      <td>We should abandon Youtube</td>\n",
              "      <td>YouTube</td>\n",
              "      <td>November 14, 2007-A Vidster user on YouTube cr...</td>\n",
              "      <td>created a community known as The Vidster Corn...</td>\n",
              "      <td>November 14, 2007-A Vidster user on</td>\n",
              "      <td>https://en.wikipedia.org/wiki/Mattel_Vidster</td>\n",
              "    </tr>\n",
              "    <tr>\n",
              "      <th>...</th>\n",
              "      <td>...</td>\n",
              "      <td>...</td>\n",
              "      <td>...</td>\n",
              "      <td>...</td>\n",
              "      <td>...</td>\n",
              "      <td>...</td>\n",
              "      <td>...</td>\n",
              "    </tr>\n",
              "    <tr>\n",
              "      <th>420117</th>\n",
              "      <td>70</td>\n",
              "      <td>Newspapers are outdated</td>\n",
              "      <td>Newspaper</td>\n",
              "      <td>NCC has been featured in multiple news article...</td>\n",
              "      <td>, such as the New York Times on August 29, 200...</td>\n",
              "      <td>NCC has been featured in multiple news article...</td>\n",
              "      <td>https://en.wikipedia.org/wiki/National_Communi...</td>\n",
              "    </tr>\n",
              "    <tr>\n",
              "      <th>420118</th>\n",
              "      <td>70</td>\n",
              "      <td>Newspapers are outdated</td>\n",
              "      <td>Newspaper</td>\n",
              "      <td>Downe was a trained journalist who worked at n...</td>\n",
              "      <td>before becoming a magazine editor.</td>\n",
              "      <td>Downe was a trained journalist who worked at</td>\n",
              "      <td>https://en.wikipedia.org/wiki/Downe_Communicat...</td>\n",
              "    </tr>\n",
              "    <tr>\n",
              "      <th>420119</th>\n",
              "      <td>70</td>\n",
              "      <td>Newspapers are outdated</td>\n",
              "      <td>Newspaper</td>\n",
              "      <td>A printing press has made possible the printin...</td>\n",
              "      <td>.</td>\n",
              "      <td>A printing press has made possible the printin...</td>\n",
              "      <td>https://en.wikipedia.org/wiki/St._Anne's_Schoo...</td>\n",
              "    </tr>\n",
              "    <tr>\n",
              "      <th>420120</th>\n",
              "      <td>70</td>\n",
              "      <td>Newspapers are outdated</td>\n",
              "      <td>Newspaper</td>\n",
              "      <td>Sumpter miner newspaper Dec 10,1902.</td>\n",
              "      <td>Dec 10,1902.</td>\n",
              "      <td>Sumpter miner</td>\n",
              "      <td>https://en.wikipedia.org/wiki/Jacob_Fawcett</td>\n",
              "    </tr>\n",
              "    <tr>\n",
              "      <th>420121</th>\n",
              "      <td>70</td>\n",
              "      <td>Newspapers are outdated</td>\n",
              "      <td>Newspaper</td>\n",
              "      <td>Other events included Yan Jun's sonic material...</td>\n",
              "      <td>that were replayed and perverted over 6 weeks...</td>\n",
              "      <td>Other events included Yan Jun's sonic material...</td>\n",
              "      <td>NaN</td>\n",
              "    </tr>\n",
              "  </tbody>\n",
              "</table>\n",
              "<p>420122 rows × 7 columns</p>\n",
              "</div>"
            ],
            "text/plain": [
              "        id  ...                                                url\n",
              "0       62  ...  https://en.wikipedia.org/wiki/The_Valley_(London)\n",
              "1       62  ...  https://en.wikipedia.org/wiki/Nagorno-Karabakh...\n",
              "2       62  ...         https://en.wikipedia.org/wiki/Damon_Albarn\n",
              "3       62  ...       https://en.wikipedia.org/wiki/Elect_the_Dead\n",
              "4       62  ...       https://en.wikipedia.org/wiki/Mattel_Vidster\n",
              "...     ..  ...                                                ...\n",
              "420117  70  ...  https://en.wikipedia.org/wiki/National_Communi...\n",
              "420118  70  ...  https://en.wikipedia.org/wiki/Downe_Communicat...\n",
              "420119  70  ...  https://en.wikipedia.org/wiki/St._Anne's_Schoo...\n",
              "420120  70  ...        https://en.wikipedia.org/wiki/Jacob_Fawcett\n",
              "420121  70  ...                                                NaN\n",
              "\n",
              "[420122 rows x 7 columns]"
            ]
          },
          "metadata": {
            "tags": []
          },
          "execution_count": 2
        }
      ]
    },
    {
      "cell_type": "code",
      "metadata": {
        "id": "C6JB4eSTFczc",
        "colab_type": "code",
        "colab": {}
      },
      "source": [
        "V=df.sentence\n",
        "cat=df.topic"
      ],
      "execution_count": 0,
      "outputs": []
    },
    {
      "cell_type": "code",
      "metadata": {
        "id": "dzH6sHAgFkBz",
        "colab_type": "code",
        "colab": {}
      },
      "source": [
        "def logisticreg(X_train, X_test, y_train, y_test):\n",
        "\n",
        "  from sklearn.linear_model import LogisticRegression\n",
        "\n",
        "  logreg = Pipeline([('vect', CountVectorizer()),\n",
        "                  ('tfidf', TfidfTransformer()),\n",
        "                  ('clf', LogisticRegression(n_jobs=1, C=1e5)),\n",
        "                 ])\n",
        "  logreg.fit(X_train, y_train)\n",
        "\n",
        "  y_pred = logreg.predict(X_test)\n",
        "  \n",
        "\n",
        "  print('accuracy %s' % accuracy_score(y_pred, y_test))"
      ],
      "execution_count": 0,
      "outputs": []
    },
    {
      "cell_type": "code",
      "metadata": {
        "id": "vc5RmKu9FmMd",
        "colab_type": "code",
        "colab": {}
      },
      "source": [
        "def mlpclassifier(X_train, X_test, y_train, y_test):\n",
        "  \n",
        "  from sklearn.neural_network import MLPClassifier\n",
        "  \n",
        "  mlp = Pipeline([('vect', CountVectorizer()),\n",
        "                  ('tfidf', TfidfTransformer()),\n",
        "                  ('clf', MLPClassifier(hidden_layer_sizes=(30,30,30))),\n",
        "                 ])\n",
        "  mlp.fit(X_train, y_train)\n",
        "\n",
        "  y_pred = mlp.predict(X_test)\n",
        "  \n",
        "  filename3 = 'wp3_mlp_model.sav'\n",
        "  pickle.dump(mlp, open(filename3, 'wb'))\n",
        "\n",
        "  print('accuracy %s' % accuracy_score(y_pred, y_test))"
      ],
      "execution_count": 0,
      "outputs": []
    },
    {
      "cell_type": "code",
      "metadata": {
        "id": "F1K188UnFodt",
        "colab_type": "code",
        "colab": {}
      },
      "source": [
        "def train_test(X,y):\n",
        " \n",
        "  X_train, X_test, y_train, y_test = train_test_split(X, y, test_size=0.3, random_state = 42)\n",
        "\n",
        "  #print(\"Results of Naive Bayes Classifier\")\n",
        "  #nb_classifier(X_train, X_test, y_train, y_test)\n",
        "  #print(\"Results of Linear Support Vector Machine\")\n",
        "  #linear_svm(X_train, X_test, y_train, y_test)\n",
        "  print(\"Results of Logistic Regression\")\n",
        "  from sklearn.linear_model import LogisticRegression\n",
        "\n",
        "  logreg = Pipeline([('vect', CountVectorizer()),\n",
        "                  ('tfidf', TfidfTransformer()),\n",
        "                  ('clf', LogisticRegression(n_jobs=1, C=1e5)),\n",
        "                 ])\n",
        "  logreg.fit(X_train, y_train)\n",
        "\n",
        "  y_pred = logreg.predict(X_test)\n",
        "  filename2 = 'wp3_Log_model.sav'\n",
        "  pickle.dump(logreg, open(filename2, 'wb'))\n",
        "\n",
        "  print('accuracy %s' % accuracy_score(y_pred, y_test))\n",
        "  #logisticreg(X_train, X_test, y_train, y_test)\n",
        "  #print(\"Results of Random Forest\")\n",
        "  #randomforest(X_train, X_test, y_train, y_test)\n",
        "  #print(\"Results of MLP Classifier\")\n",
        "  #mlpclassifier(X_train, X_test, y_train, y_test)"
      ],
      "execution_count": 0,
      "outputs": []
    },
    {
      "cell_type": "code",
      "metadata": {
        "id": "rQo3keymF6Mp",
        "colab_type": "code",
        "colab": {
          "base_uri": "https://localhost:8080/",
          "height": 138
        },
        "outputId": "5aeb465f-b57e-45cb-f788-37c22ba64f04"
      },
      "source": [
        "train_test(V,cat)"
      ],
      "execution_count": 7,
      "outputs": [
        {
          "output_type": "stream",
          "text": [
            "Results of Logistic Regression\n"
          ],
          "name": "stdout"
        },
        {
          "output_type": "stream",
          "text": [
            "/usr/local/lib/python3.6/dist-packages/sklearn/linear_model/logistic.py:432: FutureWarning: Default solver will be changed to 'lbfgs' in 0.22. Specify a solver to silence this warning.\n",
            "  FutureWarning)\n",
            "/usr/local/lib/python3.6/dist-packages/sklearn/linear_model/logistic.py:469: FutureWarning: Default multi_class will be changed to 'auto' in 0.22. Specify the multi_class option to silence this warning.\n",
            "  \"this warning.\", FutureWarning)\n"
          ],
          "name": "stderr"
        },
        {
          "output_type": "stream",
          "text": [
            "accuracy 0.9870276188738227\n"
          ],
          "name": "stdout"
        }
      ]
    },
    {
      "cell_type": "code",
      "metadata": {
        "id": "NoQyqa63F9Ak",
        "colab_type": "code",
        "colab": {}
      },
      "source": [
        "def train_test(X,y):\n",
        " \n",
        "  X_train, X_test, y_train, y_test = train_test_split(X, y, test_size=0.3, random_state = 42)\n",
        "\n",
        "  #print(\"Results of Naive Bayes Classifier\")\n",
        "  #nb_classifier(X_train, X_test, y_train, y_test)\n",
        "  #print(\"Results of Linear Support Vector Machine\")\n",
        "  #linear_svm(X_train, X_test, y_train, y_test)\n",
        "  ##print(\"Results of Logistic Regression\")\n",
        "  from sklearn.linear_model import LogisticRegression\n",
        "\n",
        "  ##logreg = Pipeline([('vect', CountVectorizer()),\n",
        "    ##              ('tfidf', TfidfTransformer()),\n",
        "      ##            ('clf', LogisticRegression(n_jobs=1, C=1e5)),\n",
        "        ##         ])\n",
        "  ##logreg.fit(X_train, y_train)\n",
        "\n",
        "  ##y_pred = logreg.predict(X_test)\n",
        "  ##filename2 = 'wp3_Log_model.sav'\n",
        "  ##pickle.dump(logreg, open(filename2, 'wb'))\n",
        "\n",
        "  ##print('accuracy %s' % accuracy_score(y_pred, y_test))\n",
        "  #logisticreg(X_train, X_test, y_train, y_test)\n",
        "  #print(\"Results of Random Forest\")\n",
        "  #randomforest(X_train, X_test, y_train, y_test)\n",
        "  print(\"Results of MLP Classifier\")\n",
        "  mlpclassifier(X_train, X_test, y_train, y_test)"
      ],
      "execution_count": 0,
      "outputs": []
    },
    {
      "cell_type": "code",
      "metadata": {
        "id": "oW3G3VLKKEGk",
        "colab_type": "code",
        "colab": {
          "base_uri": "https://localhost:8080/",
          "height": 84
        },
        "outputId": "d3a64881-b4a0-44ab-8530-ddf657204210"
      },
      "source": [
        "train_test(V,cat)"
      ],
      "execution_count": 9,
      "outputs": [
        {
          "output_type": "stream",
          "text": [
            "Results of MLP Classifier\n"
          ],
          "name": "stdout"
        },
        {
          "output_type": "stream",
          "text": [
            "/usr/local/lib/python3.6/dist-packages/sklearn/neural_network/multilayer_perceptron.py:568: UserWarning: Training interrupted by user.\n",
            "  warnings.warn(\"Training interrupted by user.\")\n"
          ],
          "name": "stderr"
        },
        {
          "output_type": "stream",
          "text": [
            "accuracy 0.9857026111379992\n"
          ],
          "name": "stdout"
        }
      ]
    },
    {
      "cell_type": "code",
      "metadata": {
        "id": "3KXZRgSIKG6h",
        "colab_type": "code",
        "colab": {}
      },
      "source": [
        ""
      ],
      "execution_count": 0,
      "outputs": []
    }
  ]
}