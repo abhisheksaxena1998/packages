{
  "nbformat": 4,
  "nbformat_minor": 0,
  "metadata": {
    "colab": {
      "name": "optimize.ipynb",
      "provenance": [],
      "include_colab_link": true
    },
    "kernelspec": {
      "name": "python3",
      "display_name": "Python 3"
    }
  },
  "cells": [
    {
      "cell_type": "markdown",
      "metadata": {
        "id": "view-in-github",
        "colab_type": "text"
      },
      "source": [
        "<a href=\"https://colab.research.google.com/github/abhisheksaxena1998/packages/blob/master/optimize.ipynb\" target=\"_parent\"><img src=\"https://colab.research.google.com/assets/colab-badge.svg\" alt=\"Open In Colab\"/></a>"
      ]
    },
    {
      "cell_type": "code",
      "metadata": {
        "id": "P0yXGD4lYSFF",
        "colab_type": "code",
        "colab": {}
      },
      "source": [
        "\n",
        "from sklearn.pipeline import Pipeline\n",
        "from sklearn.feature_extraction.text import TfidfTransformer\n",
        "from sklearn.metrics import classification_report\n",
        "from sklearn.feature_extraction.text import CountVectorizer, TfidfVectorizer\n",
        "from sklearn.metrics import accuracy_score, confusion_matrix\n",
        "import pandas as pd \n",
        "import numpy as np\n",
        "from sklearn.svm import LinearSVC\n",
        "from sklearn.linear_model import LogisticRegression\n",
        "from sklearn.neural_network import MLPClassifier\n",
        "import pickle\n",
        "\n",
        "df=pd.read_csv(\"ner_dataset.csv\",encoding='latin1')\n",
        "V=df.Word\n",
        "cat=df.Tag"
      ],
      "execution_count": 0,
      "outputs": []
    },
    {
      "cell_type": "code",
      "metadata": {
        "id": "m7vzOJ0PZyC2",
        "colab_type": "code",
        "colab": {}
      },
      "source": [
        "def logisticreg(X_train, X_test, y_train, y_test):\n",
        "\n",
        "  from sklearn.linear_model import LogisticRegression\n",
        "\n",
        "  logreg = Pipeline([('vect', CountVectorizer()),\n",
        "                  ('tfidf', TfidfTransformer()),\n",
        "                  ('clf', LogisticRegression(n_jobs=1, C=1e5)),\n",
        "                 ])\n",
        "  logreg.fit(X_train, y_train)\n",
        "\n",
        "  y_pred = logreg.predict(X_test)\n",
        "  \n",
        "\n",
        "  print('accuracy %s' % accuracy_score(y_pred, y_test))\n",
        "  #print(classification_report(y_test, y_pred,target_names=flairs))"
      ],
      "execution_count": 0,
      "outputs": []
    },
    {
      "cell_type": "code",
      "metadata": {
        "id": "aBtLgyYgaKij",
        "colab_type": "code",
        "colab": {}
      },
      "source": [
        "def mlpclassifier(X_train, X_test, y_train, y_test):\n",
        "  \n",
        "  from sklearn.neural_network import MLPClassifier\n",
        "  \n",
        "  mlp = Pipeline([('vect', CountVectorizer()),\n",
        "                  ('tfidf', TfidfTransformer()),\n",
        "                  ('clf', MLPClassifier(hidden_layer_sizes=(30,30,30))),\n",
        "                 ])\n",
        "  mlp.fit(X_train, y_train)\n",
        "\n",
        "  y_pred = mlp.predict(X_test)\n",
        "  \n",
        "  filename3 = 'mlp_model_optimized.sav'\n",
        "  pickle.dump(mlp, open(filename3, 'wb'))\n",
        "\n",
        "  print('accuracy %s' % accuracy_score(y_pred, y_test))\n",
        "  #print(classification_report(y_test, y_pred,target_names=flairs))"
      ],
      "execution_count": 0,
      "outputs": []
    },
    {
      "cell_type": "code",
      "metadata": {
        "id": "V_KyTBGJagHC",
        "colab_type": "code",
        "colab": {}
      },
      "source": [
        "def train_test(X,y):\n",
        " \n",
        "  X_train, X_test, y_train, y_test = train_test_split(X, y, test_size=0.3, random_state = 42)\n",
        "\n",
        "  #print(\"Results of Naive Bayes Classifier\")\n",
        "  #nb_classifier(X_train, X_test, y_train, y_test)\n",
        "  #print(\"Results of Linear Support Vector Machine\")\n",
        "  #linear_svm(X_train, X_test, y_train, y_test)\n",
        "  print(\"Results of Logistic Regression\")\n",
        "  from sklearn.linear_model import LogisticRegression\n",
        "\n",
        "  logreg = Pipeline([('vect', CountVectorizer()),\n",
        "                  ('tfidf', TfidfTransformer()),\n",
        "                  ('clf', LogisticRegression(n_jobs=1, C=1e5)),\n",
        "                 ])\n",
        "  logreg.fit(X_train, y_train)\n",
        "\n",
        "  y_pred = logreg.predict(X_test)\n",
        "  filename2 = 'Log_model_optimized.sav'\n",
        "  pickle.dump(logreg, open(filename2, 'wb'))\n",
        "\n",
        "  print('accuracy %s' % accuracy_score(y_pred, y_test))\n",
        "  #logisticreg(X_train, X_test, y_train, y_test)\n",
        "  #print(\"Results of Random Forest\")\n",
        "  #randomforest(X_train, X_test, y_train, y_test)\n",
        "  print(\"Results of MLP Classifier\")\n",
        "  mlpclassifier(X_train, X_test, y_train, y_test)"
      ],
      "execution_count": 0,
      "outputs": []
    },
    {
      "cell_type": "code",
      "metadata": {
        "id": "v1HDVtVwchA4",
        "colab_type": "code",
        "colab": {
          "base_uri": "https://localhost:8080/",
          "height": 188
        },
        "outputId": "9b42540e-d4f9-4056-ae57-b74a40aeb468"
      },
      "source": [
        "train_test(V,cat)"
      ],
      "execution_count": 0,
      "outputs": [
        {
          "output_type": "stream",
          "text": [
            "Results of Logistic Regression\n"
          ],
          "name": "stdout"
        },
        {
          "output_type": "stream",
          "text": [
            "/usr/local/lib/python3.6/dist-packages/sklearn/linear_model/logistic.py:432: FutureWarning: Default solver will be changed to 'lbfgs' in 0.22. Specify a solver to silence this warning.\n",
            "  FutureWarning)\n",
            "/usr/local/lib/python3.6/dist-packages/sklearn/linear_model/logistic.py:469: FutureWarning: Default multi_class will be changed to 'auto' in 0.22. Specify the multi_class option to silence this warning.\n",
            "  \"this warning.\", FutureWarning)\n",
            "/usr/local/lib/python3.6/dist-packages/sklearn/svm/base.py:929: ConvergenceWarning: Liblinear failed to converge, increase the number of iterations.\n",
            "  \"the number of iterations.\", ConvergenceWarning)\n"
          ],
          "name": "stderr"
        },
        {
          "output_type": "stream",
          "text": [
            "accuracy 0.9327373932282809\n",
            "Results of MLP Classifier\n"
          ],
          "name": "stdout"
        }
      ]
    },
    {
      "cell_type": "code",
      "metadata": {
        "id": "yaYjSJnQcm5l",
        "colab_type": "code",
        "colab": {
          "base_uri": "https://localhost:8080/",
          "height": 195
        },
        "outputId": "4e2aa26a-b186-4a40-82ae-12ed66e988b9"
      },
      "source": [
        "import pickle\n",
        "\n",
        "filename3 = 'mlp_model_optimized.sav'\n",
        "pickle.dump(mlp, open(filename3, 'wb'))"
      ],
      "execution_count": 25,
      "outputs": [
        {
          "output_type": "error",
          "ename": "NameError",
          "evalue": "ignored",
          "traceback": [
            "\u001b[0;31m---------------------------------------------------------------------------\u001b[0m",
            "\u001b[0;31mNameError\u001b[0m                                 Traceback (most recent call last)",
            "\u001b[0;32m<ipython-input-25-9b7dded470e8>\u001b[0m in \u001b[0;36m<module>\u001b[0;34m()\u001b[0m\n\u001b[1;32m      2\u001b[0m \u001b[0;34m\u001b[0m\u001b[0m\n\u001b[1;32m      3\u001b[0m \u001b[0mfilename2\u001b[0m \u001b[0;34m=\u001b[0m \u001b[0;34m'mlp_model_optimized.sav'\u001b[0m\u001b[0;34m\u001b[0m\u001b[0;34m\u001b[0m\u001b[0m\n\u001b[0;32m----> 4\u001b[0;31m \u001b[0mpickle\u001b[0m\u001b[0;34m.\u001b[0m\u001b[0mdump\u001b[0m\u001b[0;34m(\u001b[0m\u001b[0mmlp\u001b[0m\u001b[0;34m,\u001b[0m \u001b[0mopen\u001b[0m\u001b[0;34m(\u001b[0m\u001b[0mfilename2\u001b[0m\u001b[0;34m,\u001b[0m \u001b[0;34m'wb'\u001b[0m\u001b[0;34m)\u001b[0m\u001b[0;34m)\u001b[0m\u001b[0;34m\u001b[0m\u001b[0;34m\u001b[0m\u001b[0m\n\u001b[0m",
            "\u001b[0;31mNameError\u001b[0m: name 'mlp' is not defined"
          ]
        }
      ]
    },
    {
      "cell_type": "code",
      "metadata": {
        "id": "U10lk54M159m",
        "colab_type": "code",
        "colab": {
          "base_uri": "https://localhost:8080/",
          "height": 178
        },
        "outputId": "ef24827e-598e-468a-d7e2-fceb82d675b1"
      },
      "source": [
        "filename2 = 'Log_model_optimized.sav'\n",
        "pickle.dump(logreg, open(filename2, 'wb'))"
      ],
      "execution_count": 26,
      "outputs": [
        {
          "output_type": "error",
          "ename": "NameError",
          "evalue": "ignored",
          "traceback": [
            "\u001b[0;31m---------------------------------------------------------------------------\u001b[0m",
            "\u001b[0;31mNameError\u001b[0m                                 Traceback (most recent call last)",
            "\u001b[0;32m<ipython-input-26-eacb920fedd3>\u001b[0m in \u001b[0;36m<module>\u001b[0;34m()\u001b[0m\n\u001b[1;32m      1\u001b[0m \u001b[0mfilename2\u001b[0m \u001b[0;34m=\u001b[0m \u001b[0;34m'Log_model_optimized.sav'\u001b[0m\u001b[0;34m\u001b[0m\u001b[0;34m\u001b[0m\u001b[0m\n\u001b[0;32m----> 2\u001b[0;31m \u001b[0mpickle\u001b[0m\u001b[0;34m.\u001b[0m\u001b[0mdump\u001b[0m\u001b[0;34m(\u001b[0m\u001b[0mlogreg\u001b[0m\u001b[0;34m,\u001b[0m \u001b[0mopen\u001b[0m\u001b[0;34m(\u001b[0m\u001b[0mfilename2\u001b[0m\u001b[0;34m,\u001b[0m \u001b[0;34m'wb'\u001b[0m\u001b[0;34m)\u001b[0m\u001b[0;34m)\u001b[0m\u001b[0;34m\u001b[0m\u001b[0;34m\u001b[0m\u001b[0m\n\u001b[0m",
            "\u001b[0;31mNameError\u001b[0m: name 'logreg' is not defined"
          ]
        }
      ]
    },
    {
      "cell_type": "code",
      "metadata": {
        "id": "Wktfsd4f1bXP",
        "colab_type": "code",
        "colab": {}
      },
      "source": [
        ""
      ],
      "execution_count": 0,
      "outputs": []
    }
  ]
}